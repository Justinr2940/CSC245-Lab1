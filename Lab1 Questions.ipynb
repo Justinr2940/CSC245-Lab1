{
 "cells": [
  {
   "cell_type": "code",
   "outputs": [],
   "source": [
    "import numpy as np"
   ],
   "metadata": {
    "collapsed": false,
    "ExecuteTime": {
     "end_time": "2024-02-22T19:54:57.328407300Z",
     "start_time": "2024-02-22T19:54:57.061711Z"
    }
   },
   "id": "758d59c4b7cf15a5",
   "execution_count": 1
  },
  {
   "cell_type": "markdown",
   "source": [
    "1. Create a rank 2 (2D) array that resembles the matrix below.\n",
    "[[11 12 13 14]\n",
    " [15 16 17 18]]"
   ],
   "metadata": {
    "collapsed": false
   },
   "id": "3568e557b72316cd"
  },
  {
   "cell_type": "code",
   "outputs": [
    {
     "name": "stdout",
     "output_type": "stream",
     "text": [
      "[[11 12 13 14]\n",
      " [15 16 17 18]]\n"
     ]
    }
   ],
   "source": [
    "Array_2D = np.array([[11,12,13,14],[15,16,17,18]])\n",
    "print(Array_2D)"
   ],
   "metadata": {
    "collapsed": false,
    "ExecuteTime": {
     "end_time": "2024-02-22T19:54:57.348153700Z",
     "start_time": "2024-02-22T19:54:57.270846200Z"
    }
   },
   "id": "3dbccd0479dd7eb7",
   "execution_count": 2
  },
  {
   "cell_type": "markdown",
   "source": [
    "1. Create an array with 4 rows and 3 columns of zeros. Your results should look as below:\n",
    "[[0. 0. 0.]\n",
    " [0. 0. 0.]\n",
    " [0. 0. 0.]\n",
    " [0. 0. 0.]]"
   ],
   "metadata": {
    "collapsed": false
   },
   "id": "3671d7f1e63b4ba0"
  },
  {
   "cell_type": "code",
   "outputs": [
    {
     "name": "stdout",
     "output_type": "stream",
     "text": [
      "[[0. 0. 0.]\n",
      " [0. 0. 0.]\n",
      " [0. 0. 0.]\n",
      " [0. 0. 0.]]\n"
     ]
    }
   ],
   "source": [
    "array0 = np.zeros((4, 3))\n",
    "print(array0)"
   ],
   "metadata": {
    "collapsed": false,
    "ExecuteTime": {
     "end_time": "2024-02-22T19:54:57.461028800Z",
     "start_time": "2024-02-22T19:54:57.285775Z"
    }
   },
   "id": "e5fbe292bf842ca5",
   "execution_count": 3
  },
  {
   "cell_type": "markdown",
   "source": [
    "2.Create an array of ones that has 3 rows and 4 columns. Your results should look as below:\n",
    "[[1. 1. 1. 1.]\n",
    "[1. 1. 1. 1.]\n",
    "[1. 1. 1. 1.]]"
   ],
   "metadata": {
    "collapsed": false
   },
   "id": "ecf1fe6651e4c509"
  },
  {
   "cell_type": "code",
   "outputs": [
    {
     "name": "stdout",
     "output_type": "stream",
     "text": [
      "[[1. 1. 1. 1.]\n",
      " [1. 1. 1. 1.]\n",
      " [1. 1. 1. 1.]]\n"
     ]
    }
   ],
   "source": [
    "array1 = np.ones((3,4))\n",
    "print(array1)"
   ],
   "metadata": {
    "collapsed": false,
    "ExecuteTime": {
     "end_time": "2024-02-22T19:54:57.492826300Z",
     "start_time": "2024-02-22T19:54:57.295501800Z"
    }
   },
   "id": "e4e0f77548d52389",
   "execution_count": 4
  },
  {
   "cell_type": "markdown",
   "source": [
    "3. Create an array containing integers 4 to 13 inclusive. Your results should look as below:\n",
    "[4 5 6 7 8 9 10 11 12 13]"
   ],
   "metadata": {
    "collapsed": false
   },
   "id": "231e4cf17f84b99c"
  },
  {
   "cell_type": "code",
   "outputs": [
    {
     "name": "stdout",
     "output_type": "stream",
     "text": [
      "[ 4  5  6  7  8  9 10 11 12 13]\n"
     ]
    }
   ],
   "source": [
    "array_3 = np.array(range(4, 14))\n",
    "print(array_3)"
   ],
   "metadata": {
    "collapsed": false,
    "ExecuteTime": {
     "end_time": "2024-02-22T19:54:57.494868500Z",
     "start_time": "2024-02-22T19:54:57.305366400Z"
    }
   },
   "id": "2d4be36d126b81ad",
   "execution_count": 5
  },
  {
   "cell_type": "markdown",
   "source": [
    "4. Create an array containing\n",
    "[0., 1.5, 3., 4.5]"
   ],
   "metadata": {
    "collapsed": false
   },
   "id": "557fca867e02ed87"
  },
  {
   "cell_type": "code",
   "outputs": [
    {
     "name": "stdout",
     "output_type": "stream",
     "text": [
      "[0.  1.5 3.  4.5]\n"
     ]
    }
   ],
   "source": [
    "my_array = np.array([0.0, 1.5, 3.0, 4.5])\n",
    "print(my_array)"
   ],
   "metadata": {
    "collapsed": false,
    "ExecuteTime": {
     "end_time": "2024-02-22T19:54:57.495867600Z",
     "start_time": "2024-02-22T19:54:57.314141Z"
    }
   },
   "id": "8fc45594469702c0",
   "execution_count": 6
  },
  {
   "cell_type": "markdown",
   "source": [
    "5. Create a 2 by 2 array containing '4' in each position. Your results should look like this:\n",
    "[[4 4]\n",
    " [4 4]]"
   ],
   "metadata": {
    "collapsed": false
   },
   "id": "b9948b1b468b63af"
  },
  {
   "cell_type": "code",
   "outputs": [
    {
     "name": "stdout",
     "output_type": "stream",
     "text": [
      "[[4 4]\n",
      " [4 4]]\n"
     ]
    }
   ],
   "source": [
    "my_array = np.full((2, 2), 4)\n",
    "print(my_array)"
   ],
   "metadata": {
    "collapsed": false,
    "ExecuteTime": {
     "end_time": "2024-02-22T19:54:57.513873800Z",
     "start_time": "2024-02-22T19:54:57.323361400Z"
    }
   },
   "id": "51257faabfd8cd4",
   "execution_count": 7
  },
  {
   "cell_type": "markdown",
   "source": [
    "6\n",
    ". Create 2 matrices:\n",
    "i. Identity matrix of size 4\n",
    "[[1. 0. 0. 0.]\n",
    " [0. 1. 0. 0.]\n",
    " [0. 0. 1. 0.]\n",
    " [0. 0. 0. 1.]]\n",
    "ii. Diagonal matrix with [10,12] as the diagonals\n",
    "[[10  0]\n",
    " [ 0 12]]"
   ],
   "metadata": {
    "collapsed": false
   },
   "id": "72f76da7d8738019"
  },
  {
   "cell_type": "code",
   "outputs": [
    {
     "name": "stdout",
     "output_type": "stream",
     "text": [
      "[[1. 0. 0. 0.]\n",
      " [0. 1. 0. 0.]\n",
      " [0. 0. 1. 0.]\n",
      " [0. 0. 0. 1.]]\n"
     ]
    }
   ],
   "source": [
    "my_array = np.eye(4)\n",
    "print(my_array)"
   ],
   "metadata": {
    "collapsed": false,
    "ExecuteTime": {
     "end_time": "2024-02-22T19:54:57.514873700Z",
     "start_time": "2024-02-22T19:54:57.330407500Z"
    }
   },
   "id": "e4a9ca6585a605fe",
   "execution_count": 8
  },
  {
   "cell_type": "code",
   "outputs": [
    {
     "name": "stdout",
     "output_type": "stream",
     "text": [
      "[[10  0]\n",
      " [ 0 12]]\n"
     ]
    }
   ],
   "source": [
    "my_array = np.diag([10,12])\n",
    "print(my_array)"
   ],
   "metadata": {
    "collapsed": false,
    "ExecuteTime": {
     "end_time": "2024-02-22T19:54:57.516874400Z",
     "start_time": "2024-02-22T19:54:57.339994900Z"
    }
   },
   "id": "72b6815bd8833f7f",
   "execution_count": 9
  },
  {
   "cell_type": "markdown",
   "source": [
    "7. Create a 3 by 3 array with random floats in [0, 10]. Your answer may be different because it is random but it should look something like this:\n",
    "[[6.3685612  0.61720883 8.93157783]\n",
    " [3.69927617 5.79879583 7.62145626]\n",
    " [7.21895112 4.02011535 4.48844787]]"
   ],
   "metadata": {
    "collapsed": false
   },
   "id": "bfdce555b1974abb"
  },
  {
   "cell_type": "code",
   "outputs": [
    {
     "name": "stdout",
     "output_type": "stream",
     "text": [
      "[[6.8511993  5.55543875 0.78495692]\n",
      " [1.26340545 2.39666647 0.71309932]\n",
      " [0.17381146 5.95358377 5.73636949]]\n"
     ]
    }
   ],
   "source": [
    "my_array = np.random.rand(3,3)*10\n",
    "print(my_array)"
   ],
   "metadata": {
    "collapsed": false,
    "ExecuteTime": {
     "end_time": "2024-02-22T19:54:57.530388100Z",
     "start_time": "2024-02-22T19:54:57.348153700Z"
    }
   },
   "id": "bdc5d59a80ba303b",
   "execution_count": 10
  },
  {
   "cell_type": "markdown",
   "source": [
    "8. Create a 3 by 3 array with random integers in [10, 20]. Your answer may be different because it is random but it should look something like this:\n",
    "[[19 11 13]\n",
    " [10 11 13]\n",
    " [11 14 10]]\n"
   ],
   "metadata": {
    "collapsed": false
   },
   "id": "5ef8d01590f44095"
  },
  {
   "cell_type": "code",
   "outputs": [
    {
     "name": "stdout",
     "output_type": "stream",
     "text": [
      "[[10 18 18]\n",
      " [12 17 18]\n",
      " [11 18 10]]\n"
     ]
    }
   ],
   "source": [
    "my_array = np.random.randint(10, 21, size=(3, 3))\n",
    "print(my_array)"
   ],
   "metadata": {
    "collapsed": false,
    "ExecuteTime": {
     "end_time": "2024-02-22T19:54:57.532387100Z",
     "start_time": "2024-02-22T19:54:57.358252300Z"
    }
   },
   "id": "986eada48f1e42da",
   "execution_count": 11
  },
  {
   "cell_type": "markdown",
   "source": [
    "1. Use this array for the following practice:\n",
    "myArray = np.array([[11,12,13], [14,15,16], [17,18,19]])\n",
    "a. Get a subarray of the first row and first 2 columns. Your results should look like this:\n",
    "[11 12]\n",
    "b. Change all elements in 1st and second row to 0. Your results should look like this:\n",
    "[[ 0  0  0]\n",
    " [ 0  0  0]\n",
    " [17 18 19]]"
   ],
   "metadata": {
    "collapsed": false
   },
   "id": "64f6bb4dd72eb460"
  },
  {
   "cell_type": "code",
   "outputs": [
    {
     "name": "stdout",
     "output_type": "stream",
     "text": [
      "[11 12]\n",
      "[[ 0  0  0]\n",
      " [ 0  0  0]\n",
      " [17 18 19]]\n"
     ]
    }
   ],
   "source": [
    "myArray = np.array([[11,12,13], [14,15,16], [17,18,19]])\n",
    "#a\n",
    "array_a = myArray[0, :2]\n",
    "print(array_a)\n",
    "\n",
    "#b\n",
    "myArray[:2, :] = 0\n",
    "print(myArray)\n",
    "\n"
   ],
   "metadata": {
    "collapsed": false,
    "ExecuteTime": {
     "end_time": "2024-02-22T19:54:57.781862800Z",
     "start_time": "2024-02-22T19:54:57.473623200Z"
    }
   },
   "id": "ddc77a80543cabda",
   "execution_count": 12
  },
  {
   "cell_type": "markdown",
   "source": [
    "2. Create an array that contains [0,1,2,3,4,5,6,7,8,9,10,11,12,13,14,15,16,17,18,19,20] and reverse the order."
   ],
   "metadata": {
    "collapsed": false
   },
   "id": "b266c1eabfb7bf10"
  },
  {
   "cell_type": "code",
   "outputs": [
    {
     "name": "stdout",
     "output_type": "stream",
     "text": [
      "[20 19 18 17 16 15 14 13 12 11 10  9  8  7  6  5  4  3  2  1  0]\n"
     ]
    }
   ],
   "source": [
    "original_array = np.arange(21)  # Creates an array from 0 to 20\n",
    "reversed_array = original_array[::-1]  # Reverses the order of the array\n",
    "print(reversed_array)"
   ],
   "metadata": {
    "collapsed": false,
    "ExecuteTime": {
     "end_time": "2024-02-22T19:54:57.893674900Z",
     "start_time": "2024-02-22T19:54:57.787860800Z"
    }
   },
   "id": "11c4c560305c0022",
   "execution_count": 13
  },
  {
   "cell_type": "markdown",
   "source": [
    "Use this array for the following practice:\n",
    "myArray = np.array([[11,12,13], [14,15,16]])\n",
    "Reshape the array to an array with 3 rows. Your results should look like this:\n",
    "[[11 12]\n",
    " [13 14]\n",
    " [15 16]]"
   ],
   "metadata": {
    "collapsed": false
   },
   "id": "b863a0b049823cf"
  },
  {
   "cell_type": "code",
   "outputs": [
    {
     "name": "stdout",
     "output_type": "stream",
     "text": [
      "[[11 12]\n",
      " [13 14]\n",
      " [15 16]]\n"
     ]
    }
   ],
   "source": [
    "myArray = np.array([[11,12,13], [14,15,16]])\n",
    "\n",
    "new_array = myArray.reshape(3, -1)\n",
    "print(new_array)\n"
   ],
   "metadata": {
    "collapsed": false,
    "ExecuteTime": {
     "end_time": "2024-02-22T19:54:57.993742300Z",
     "start_time": "2024-02-22T19:54:57.872145Z"
    }
   },
   "id": "63f26226cf31210e",
   "execution_count": 14
  },
  {
   "cell_type": "markdown",
   "source": [
    "Use this array for the following practice:\n",
    "myArray = np.arange(10)\n",
    "1. Find the square of every number in array\n",
    "2. Find the square root of every number in array\n",
    "3. Multiply the square of each number in array with its respective square root"
   ],
   "metadata": {
    "collapsed": false
   },
   "id": "24fbf8ad20602f04"
  },
  {
   "cell_type": "code",
   "outputs": [
    {
     "name": "stdout",
     "output_type": "stream",
     "text": [
      "Squared array: [ 0  1  4  9 16 25 36 49 64 81]\n",
      "Square root array: [0.         1.         1.41421356 1.73205081 2.         2.23606798\n",
      " 2.44948974 2.64575131 2.82842712 3.        ]\n",
      "Result array: [  0.           1.           5.65685425  15.58845727  32.\n",
      "  55.90169944  88.18163074 129.64181424 181.01933598 243.        ]\n"
     ]
    }
   ],
   "source": [
    "myArray = np.arange(10)\n",
    "\n",
    "# 1.\n",
    "squared_array = np.square(myArray)\n",
    "\n",
    "# 2. \n",
    "sqrt_array = np.sqrt(myArray)\n",
    "\n",
    "# 3.\n",
    "result_array = squared_array * sqrt_array\n",
    "\n",
    "print(\"Squared array:\", squared_array)\n",
    "print(\"Square root array:\", sqrt_array)\n",
    "print(\"Result array:\", result_array)"
   ],
   "metadata": {
    "collapsed": false,
    "ExecuteTime": {
     "end_time": "2024-02-22T19:54:58.030562300Z",
     "start_time": "2024-02-22T19:54:57.980022900Z"
    }
   },
   "id": "48e154962959824",
   "execution_count": 15
  },
  {
   "cell_type": "markdown",
   "source": [
    "ADDING ELEMENTS\n",
    "Use this array for the following practice:\n",
    "myArray = np.array([[11,12,13], [14,15,16], [17,18,19]])\n",
    "1. Add a new row of elements containing 20, 21 and 22\n",
    "2. Add a new column of elements containing 30, 40 and 50"
   ],
   "metadata": {
    "collapsed": false
   },
   "id": "a7f88ffa43b491c7"
  },
  {
   "cell_type": "code",
   "outputs": [],
   "source": [],
   "metadata": {
    "collapsed": false,
    "ExecuteTime": {
     "end_time": "2024-02-22T19:54:58.093753100Z",
     "start_time": "2024-02-22T19:54:58.034835Z"
    }
   },
   "id": "2068c8f80e26a586",
   "execution_count": 15
  },
  {
   "cell_type": "markdown",
   "source": [
    "INSERTING ELEMENTS\n",
    "1. Add 1 column of 1 to this array: myArray = np.zeros((2,2))\n",
    "2. Add 2 rows of 2 to the answer from part 1\n",
    "3. Remove the last column\n",
    "4. Remove the last row"
   ],
   "metadata": {
    "collapsed": false
   },
   "id": "19c16de4146e7b9c"
  },
  {
   "cell_type": "code",
   "outputs": [
    {
     "name": "stdout",
     "output_type": "stream",
     "text": [
      "[[0. 0.]\n",
      " [0. 0.]\n",
      " [2. 2.]]\n"
     ]
    }
   ],
   "source": [
    "myArray = np.zeros((2, 2))\n",
    "myArray = np.insert(myArray, 2, 1, axis=1)\n",
    "\n",
    "# 2. Add 2 rows of 2 to the answer from part 1\n",
    "myArray = np.insert(myArray, 2, 2, axis=0)\n",
    "myArray = np.insert(myArray, 2, 2, axis=0)\n",
    "\n",
    "# 3. Remove the last column\n",
    "myArray = np.delete(myArray, -1, axis=1)\n",
    "\n",
    "# 4. Remove the last row\n",
    "myArray = np.delete(myArray, -1, axis=0)\n",
    "\n",
    "print(myArray)"
   ],
   "metadata": {
    "collapsed": false,
    "ExecuteTime": {
     "end_time": "2024-02-22T19:54:58.162352200Z",
     "start_time": "2024-02-22T19:54:58.076089900Z"
    }
   },
   "id": "2a92cc7ac40f3916",
   "execution_count": 16
  },
  {
   "cell_type": "markdown",
   "source": [
    "DELETING ELEMENTS\n",
    "Remove the elements from the middle column of this array:\n",
    "myArray = np.matrix([[1, 2, 3], [4, 5, 6], [9, 8, 7]])\n",
    "Your codes should look like this:\n",
    "[[1 3]\n",
    " [4 6]\n",
    " [9 7]]"
   ],
   "metadata": {
    "collapsed": false
   },
   "id": "535b37030574852d"
  },
  {
   "cell_type": "code",
   "outputs": [
    {
     "name": "stdout",
     "output_type": "stream",
     "text": [
      "[[1 3]\n",
      " [4 6]\n",
      " [9 7]]\n"
     ]
    }
   ],
   "source": [
    "myArray = np.matrix([[1, 2, 3], [4, 5, 6], [9, 8, 7]])\n",
    "\n",
    "# Remove the middle column (column index 1)\n",
    "result_array = np.delete(myArray, 1, axis=1)\n",
    "\n",
    "print(result_array)\n"
   ],
   "metadata": {
    "collapsed": false,
    "ExecuteTime": {
     "end_time": "2024-02-22T19:54:58.183350600Z",
     "start_time": "2024-02-22T19:54:58.147967300Z"
    }
   },
   "id": "dc9411c0462fd2ec",
   "execution_count": 17
  },
  {
   "cell_type": "markdown",
   "source": [
    "Replace all odd numbers in the given array with -1\n",
    "Start with:\n",
    "exercise_1 = np.array([0, 1, 2, 3, 4, 5, 6, 7, 8, 9])\n",
    "Desired output:\n",
    "[ 0, -1, 2, -1, 4, -1, 6, -1, 8, -1]"
   ],
   "metadata": {
    "collapsed": false
   },
   "id": "1b6231ef3a5bc8cb"
  },
  {
   "cell_type": "code",
   "outputs": [
    {
     "name": "stdout",
     "output_type": "stream",
     "text": [
      "[ 0 -1  2 -1  4 -1  6 -1  8 -1]\n"
     ]
    }
   ],
   "source": [
    "MY_array1 = np.array([0, 1, 2, 3, 4, 5, 6, 7, 8, 9])\n",
    "\n",
    "# Find indices of odd numbers\n",
    "odd_indices = np.where(MY_array1 % 2 != 0)\n",
    "\n",
    "# Replace odd numbers with -1\n",
    "MY_array1[odd_indices] = -1\n",
    "\n",
    "print(MY_array1)"
   ],
   "metadata": {
    "collapsed": false,
    "ExecuteTime": {
     "end_time": "2024-02-22T19:54:58.261445800Z",
     "start_time": "2024-02-22T19:54:58.187351900Z"
    }
   },
   "id": "3b5c6ad2dcad72c8",
   "execution_count": 18
  },
  {
   "cell_type": "markdown",
   "source": [
    "Convert a 1-D array into a 2-D array with 3 rows\n",
    "Start with:\n",
    "exercise_2 = np.array([0, 1, 2, 3, 4, 5, 6, 7, 8])\n",
    "Desired output:\n",
    "[[ 0, 1, 2]\n",
    "[3, 4, 5]\n",
    "[6, 7, 8]]"
   ],
   "metadata": {
    "collapsed": false
   },
   "id": "dbcf30761b5cf476"
  },
  {
   "cell_type": "code",
   "outputs": [],
   "source": [],
   "metadata": {
    "collapsed": false,
    "ExecuteTime": {
     "end_time": "2024-02-22T19:54:58.335592500Z",
     "start_time": "2024-02-22T19:54:58.247932800Z"
    }
   },
   "id": "379e96233102f472",
   "execution_count": 18
  },
  {
   "cell_type": "code",
   "outputs": [
    {
     "name": "stdout",
     "output_type": "stream",
     "text": [
      "[[0 1 2]\n",
      " [3 4 5]\n",
      " [6 7 8]]\n"
     ]
    }
   ],
   "source": [
    "exercise_2 = np.array([0, 1, 2, 3, 4, 5, 6, 7, 8])\n",
    "result = exercise_2.reshape(3, -1)\n",
    "\n",
    "print(result)"
   ],
   "metadata": {
    "collapsed": false,
    "ExecuteTime": {
     "end_time": "2024-02-22T19:54:58.360452100Z",
     "start_time": "2024-02-22T19:54:58.320627500Z"
    }
   },
   "id": "359ee212fcceb2d3",
   "execution_count": 19
  },
  {
   "cell_type": "markdown",
   "source": [
    "Add 202 to all the values in given array\n",
    "Start with:\n",
    "exercise_3 = np.arange(4).reshape(2,-1)\n",
    "Desired output:\n",
    "[[202, 203]\n",
    "[204, 205]]\n"
   ],
   "metadata": {
    "collapsed": false
   },
   "id": "2ca5c9bde70c99f6"
  },
  {
   "cell_type": "code",
   "outputs": [
    {
     "name": "stdout",
     "output_type": "stream",
     "text": [
      "[[202 203]\n",
      " [204 205]]\n"
     ]
    }
   ],
   "source": [
    "exercise_3 = np.arange(4).reshape(2,-1)\n",
    "result = exercise_3 + 202\n",
    "\n",
    "print(result)"
   ],
   "metadata": {
    "collapsed": false,
    "ExecuteTime": {
     "end_time": "2024-02-22T19:54:58.399685300Z",
     "start_time": "2024-02-22T19:54:58.347727700Z"
    }
   },
   "id": "9d6693430edda7ed",
   "execution_count": 20
  },
  {
   "cell_type": "markdown",
   "source": [
    "Generate a 1-D array of 10 random integers. Each integer should be a number between 30 and 40 (inclusive)\n",
    "Sample of desired output:\n",
    "[36, 30, 36, 38, 31, 35, 36, 30, 32, 34]"
   ],
   "metadata": {
    "collapsed": false
   },
   "id": "ce791ed7df7003cd"
  },
  {
   "cell_type": "code",
   "outputs": [
    {
     "name": "stdout",
     "output_type": "stream",
     "text": [
      "[32 36 36 31 34 34 38 34 30 31]\n"
     ]
    }
   ],
   "source": [
    "random_integers = np.random.randint(30, 41, size=10)\n",
    "print(random_integers)"
   ],
   "metadata": {
    "collapsed": false,
    "ExecuteTime": {
     "end_time": "2024-02-22T19:54:58.440029600Z",
     "start_time": "2024-02-22T19:54:58.403684700Z"
    }
   },
   "id": "9a6edc629f13cd74",
   "execution_count": 21
  },
  {
   "cell_type": "markdown",
   "source": [
    "Find the positions of:\n",
    "elements in x where its value is more than its corresponding element in y, and\n",
    "elements in x where its value is equals to its corresponding element in y.\n",
    "Start with these:\n",
    "x = np.array([21, 64, 86, 22, 74, 55, 81, 79, 90, 89])\n",
    "y = np.array([21, 7, 3, 45, 10, 29, 55, 4, 37, 18])\n",
    "Desired output:\n",
    "(array([1, 2, 4, 5, 6, 7, 8, 9]),) and (array([0]),)"
   ],
   "metadata": {
    "collapsed": false
   },
   "id": "8cbaff2b69e98e87"
  },
  {
   "cell_type": "code",
   "outputs": [
    {
     "name": "stdout",
     "output_type": "stream",
     "text": [
      "[1 2 4 5 6 7 8 9] [0]\n"
     ]
    }
   ],
   "source": [
    "x = np.array([21, 64, 86, 22, 74, 55, 81, 79, 90, 89])\n",
    "y = np.array([21, 7, 3, 45, 10, 29, 55, 4, 37, 18])\n",
    "\n",
    "greater_than_y = np.where(x > y)[0]\n",
    "equal_to_y = np.where(x == y)[0]\n",
    "\n",
    "print(greater_than_y, equal_to_y)"
   ],
   "metadata": {
    "collapsed": false,
    "ExecuteTime": {
     "end_time": "2024-02-22T19:54:58.515440700Z",
     "start_time": "2024-02-22T19:54:58.445029400Z"
    }
   },
   "id": "688233d9d6a495b8",
   "execution_count": 22
  },
  {
   "cell_type": "markdown",
   "source": [
    "Extract the first four columns of this 2-D array\n",
    "Start with this:\n",
    "exercise_6 = np.arange(100).reshape(5,-1)\n",
    "Desired output:\n",
    "[[ 0 1 2 3]\n",
    "[20 21 22 23]\n",
    "[40 41 42 43]\n",
    "[60 61 62 63]\n",
    "[80 81 82 83]]"
   ],
   "metadata": {
    "collapsed": false
   },
   "id": "dfe5d4e1ef34249f"
  },
  {
   "cell_type": "code",
   "outputs": [
    {
     "name": "stdout",
     "output_type": "stream",
     "text": [
      "[[ 0  1  2  3]\n",
      " [20 21 22 23]\n",
      " [40 41 42 43]\n",
      " [60 61 62 63]\n",
      " [80 81 82 83]]\n"
     ]
    }
   ],
   "source": [
    "exercise_6 = np.arange(100).reshape(5,-1)\n",
    "first_four_columns = exercise_6[:, :4]\n",
    "\n",
    "print(first_four_columns)"
   ],
   "metadata": {
    "collapsed": false,
    "ExecuteTime": {
     "end_time": "2024-02-22T19:54:58.566954700Z",
     "start_time": "2024-02-22T19:54:58.505434400Z"
    }
   },
   "id": "c2e5175ec50bc165",
   "execution_count": 23
  }
 ],
 "metadata": {
  "kernelspec": {
   "display_name": "Python 3",
   "language": "python",
   "name": "python3"
  },
  "language_info": {
   "codemirror_mode": {
    "name": "ipython",
    "version": 2
   },
   "file_extension": ".py",
   "mimetype": "text/x-python",
   "name": "python",
   "nbconvert_exporter": "python",
   "pygments_lexer": "ipython2",
   "version": "2.7.6"
  }
 },
 "nbformat": 4,
 "nbformat_minor": 5
}
