{
 "cells": [
  {
   "cell_type": "markdown",
   "source": [
    "1. Create a rank 2 (2D) array that resembles the matrix below.\n",
    "[[11 12 13 14]\n",
    " [15 16 17 18]]"
   ],
   "metadata": {
    "collapsed": false
   },
   "id": "3568e557b72316cd"
  },
  {
   "cell_type": "markdown",
   "source": [
    "1. Create an array with 4 rows and 3 columns of zeros. Your results should look as below:\n",
    "[[0. 0. 0.]\n",
    " [0. 0. 0.]\n",
    " [0. 0. 0.]\n",
    " [0. 0. 0.]]"
   ],
   "metadata": {
    "collapsed": false
   },
   "id": "3671d7f1e63b4ba0"
  },
  {
   "cell_type": "markdown",
   "source": [
    "2.Create an array of ones that has 3 rows and 4 columns. Your results should look as below:\n",
    "[[1. 1. 1. 1.]\n",
    "[1. 1. 1. 1.]\n",
    "[1. 1. 1. 1.]]"
   ],
   "metadata": {
    "collapsed": false
   },
   "id": "ecf1fe6651e4c509"
  },
  {
   "cell_type": "markdown",
   "source": [
    "3. Create an array containing integers 4 to 13 inclusive. Your results should look as below:\n",
    "[4 5 6 7 8 9 10 11 12 13]"
   ],
   "metadata": {
    "collapsed": false
   },
   "id": "231e4cf17f84b99c"
  },
  {
   "cell_type": "markdown",
   "source": [
    "4. Create an array containing\n",
    "[0., 1.5, 3., 4.5]"
   ],
   "metadata": {
    "collapsed": false
   },
   "id": "557fca867e02ed87"
  },
  {
   "cell_type": "markdown",
   "source": [
    "5. Create a 2 by 2 array containing '4' in each position. Your results should look like this:\n",
    "[[4 4]\n",
    " [4 4]]"
   ],
   "metadata": {
    "collapsed": false
   },
   "id": "b9948b1b468b63af"
  },
  {
   "cell_type": "markdown",
   "source": [
    "6\n",
    ". Create 2 matrices:\n",
    "i. Identity matrix of size 4\n",
    "[[1. 0. 0. 0.]\n",
    " [0. 1. 0. 0.]\n",
    " [0. 0. 1. 0.]\n",
    " [0. 0. 0. 1.]]\n",
    "ii. Diagonal matrix with [10,12] as the diagonals\n",
    "[[10  0]\n",
    " [ 0 12]]"
   ],
   "metadata": {
    "collapsed": false
   },
   "id": "72f76da7d8738019"
  },
  {
   "cell_type": "markdown",
   "source": [
    "7. Create a 3 by 3 array with random floats in [0, 10]. Your answer may be different because it is random but it should look something like this:\n",
    "[[6.3685612  0.61720883 8.93157783]\n",
    " [3.69927617 5.79879583 7.62145626]\n",
    " [7.21895112 4.02011535 4.48844787]]"
   ],
   "metadata": {
    "collapsed": false
   },
   "id": "bfdce555b1974abb"
  },
  {
   "cell_type": "markdown",
   "source": [
    "8. Create a 3 by 3 array with random integers in [10, 20]. Your answer may be different because it is random but it should look something like this:\n",
    "[[19 11 13]\n",
    " [10 11 13]\n",
    " [11 14 10]]\n"
   ],
   "metadata": {
    "collapsed": false
   },
   "id": "5ef8d01590f44095"
  },
  {
   "cell_type": "markdown",
   "source": [
    "1. Use this array for the following practice:\n",
    "myArray = np.array([[11,12,13], [14,15,16], [17,18,19]])\n",
    "a. Get a subarray of the first row and first 2 columns. Your results should look like this:\n",
    "[11 12]\n",
    "b. Change all elements in 1st and second row to 0. Your results should look like this:\n",
    "[[ 0  0  0]\n",
    " [ 0  0  0]\n",
    " [17 18 19]]"
   ],
   "metadata": {
    "collapsed": false
   },
   "id": "64f6bb4dd72eb460"
  },
  {
   "cell_type": "markdown",
   "source": [
    "2. Create an array that contains [0,1,2,3,4,5,6,7,8,9,10,11,12,13,14,15,16,17,18,19,20] and reverse the order."
   ],
   "metadata": {
    "collapsed": false
   },
   "id": "b266c1eabfb7bf10"
  },
  {
   "cell_type": "markdown",
   "source": [
    "Use this array for the following practice:\n",
    "myArray = np.array([[11,12,13], [14,15,16]])\n",
    "Reshape the array to an array with 3 rows. Your results should look like this:\n",
    "[[11 12]\n",
    " [13 14]\n",
    " [15 16]]"
   ],
   "metadata": {
    "collapsed": false
   },
   "id": "b863a0b049823cf"
  },
  {
   "cell_type": "markdown",
   "source": [
    "Use this array for the following practice:\n",
    "myArray = np.arange(10)\n",
    "1. Find the square of every number in array\n",
    "2. Find the square root of every number in array\n",
    "3. Multiply the square of each number in array with its respective square root"
   ],
   "metadata": {
    "collapsed": false
   },
   "id": "24fbf8ad20602f04"
  },
  {
   "cell_type": "markdown",
   "source": [
    "ADDING ELEMENTS\n",
    "Use this array for the following practice:\n",
    "myArray = np.array([[11,12,13], [14,15,16], [17,18,19]])\n",
    "1. Add a new row of elements containing 20, 21 and 22\n",
    "2. Add a new column of elements containing 30, 40 and 50"
   ],
   "metadata": {
    "collapsed": false
   },
   "id": "a7f88ffa43b491c7"
  },
  {
   "cell_type": "markdown",
   "source": [
    "INSERTING ELEMENTS\n",
    "1. Add 1 column of 1 to this array: myArray = np.zeros((2,2))\n",
    "2. Add 2 rows of 2 to the answer from part 1\n",
    "3. Remove the last column\n",
    "4. Remove the last row"
   ],
   "metadata": {
    "collapsed": false
   },
   "id": "19c16de4146e7b9c"
  },
  {
   "cell_type": "markdown",
   "source": [
    "DELETING ELEMENTS\n",
    "Remove the elements from the middle column of this array:\n",
    "myArray = np.matrix([[1, 2, 3], [4, 5, 6], [9, 8, 7]])\n",
    "Your codes should look like this:\n",
    "[[1 3]\n",
    " [4 6]\n",
    " [9 7]]"
   ],
   "metadata": {
    "collapsed": false
   },
   "id": "535b37030574852d"
  },
  {
   "cell_type": "markdown",
   "source": [
    "Replace all odd numbers in the given array with -1\n",
    "Start with:\n",
    "exercise_1 = np.array([0, 1, 2, 3, 4, 5, 6, 7, 8, 9])\n",
    "Desired output:\n",
    "[ 0, -1, 2, -1, 4, -1, 6, -1, 8, -1]"
   ],
   "metadata": {
    "collapsed": false
   },
   "id": "1b6231ef3a5bc8cb"
  },
  {
   "cell_type": "markdown",
   "source": [
    "Convert a 1-D array into a 2-D array with 3 rows\n",
    "Start with:\n",
    "exercise_2 = np.array([0, 1, 2, 3, 4, 5, 6, 7, 8])\n",
    "Desired output:\n",
    "[[ 0, 1, 2]\n",
    "[3, 4, 5]\n",
    "[6, 7, 8]]"
   ],
   "metadata": {
    "collapsed": false
   },
   "id": "dbcf30761b5cf476"
  },
  {
   "cell_type": "markdown",
   "source": [
    "Add 202 to all the values in given array\n",
    "Start with:\n",
    "exercise_3 = np.arange(4).reshape(2,-1)\n",
    "Desired output:\n",
    "[[202, 203]\n",
    "[204, 205]]\n"
   ],
   "metadata": {
    "collapsed": false
   },
   "id": "2ca5c9bde70c99f6"
  },
  {
   "cell_type": "markdown",
   "source": [
    "Generate a 1-D array of 10 random integers. Each integer should be a number between 30 and 40 (inclusive)\n",
    "Sample of desired output:\n",
    "[36, 30, 36, 38, 31, 35, 36, 30, 32, 34]"
   ],
   "metadata": {
    "collapsed": false
   },
   "id": "ce791ed7df7003cd"
  },
  {
   "cell_type": "markdown",
   "source": [
    "Find the positions of:\n",
    "elements in x where its value is more than its corresponding element in y, and\n",
    "elements in x where its value is equals to its corresponding element in y.\n",
    "Start with these:\n",
    "x = np.array([21, 64, 86, 22, 74, 55, 81, 79, 90, 89])\n",
    "y = np.array([21, 7, 3, 45, 10, 29, 55, 4, 37, 18])\n",
    "Desired output:\n",
    "(array([1, 2, 4, 5, 6, 7, 8, 9]),) and (array([0]),)"
   ],
   "metadata": {
    "collapsed": false
   },
   "id": "8cbaff2b69e98e87"
  },
  {
   "cell_type": "markdown",
   "source": [
    "Extract the first four columns of this 2-D array\n",
    "Start with this:\n",
    "exercise_6 = np.arange(100).reshape(5,-1)\n",
    "Desired output:\n",
    "[[ 0 1 2 3]\n",
    "[20 21 22 23]\n",
    "[40 41 42 43]\n",
    "[60 61 62 63]\n",
    "[80 81 82 83]]"
   ],
   "metadata": {
    "collapsed": false
   },
   "id": "dfe5d4e1ef34249f"
  },
  {
   "cell_type": "code",
   "outputs": [],
   "source": [],
   "metadata": {
    "collapsed": false
   },
   "id": "c2e5175ec50bc165"
  }
 ],
 "metadata": {
  "kernelspec": {
   "display_name": "Python 3",
   "language": "python",
   "name": "python3"
  },
  "language_info": {
   "codemirror_mode": {
    "name": "ipython",
    "version": 2
   },
   "file_extension": ".py",
   "mimetype": "text/x-python",
   "name": "python",
   "nbconvert_exporter": "python",
   "pygments_lexer": "ipython2",
   "version": "2.7.6"
  }
 },
 "nbformat": 4,
 "nbformat_minor": 5
}
